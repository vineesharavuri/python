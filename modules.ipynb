{
 "cells": [
  {
   "cell_type": "code",
   "execution_count": 1,
   "id": "8160d44d",
   "metadata": {},
   "outputs": [],
   "source": [
    " Modules in python\n",
    "    built in module - os,sys,math,random,datetime\n",
    "    user defined module - extension - .py\n",
    "    \n",
    "To get .py extension of file ,we creating one file and their we having some functions \n",
    "then we can convert that ipynb file to .py file by downloading as .py file and we can import that file as module in req file\n",
    "    \n",
    "for example we have my_math file of .py creation\n",
    "\n",
    "import my_math\n",
    "print(my_math.my_add(10,20,30,30,40))  # calling my_add funtion from my_math module\n",
    "\n",
    "\n",
    "we can import module in diff ways\n",
    "\n",
    "import my_math as m\n",
    "print(m.my_add(10,20,30,30,40))  # we have to use aliase name when we give name to module\n",
    "\n",
    "from my_math import my_add   # we can call only function from the module.\n",
    "print(my_add(10,20,30,40))\n",
    "\n",
    "\n"
   ]
  },
  {
   "cell_type": "code",
   "execution_count": null,
   "id": "bdb273f9",
   "metadata": {},
   "outputs": [],
   "source": [
    "# when we import my_math we can execute the code inside the module .Let we have a executable code in my_math  module\n",
    "\n",
    "Now we import this module in another file we get the code as output\n",
    "\n",
    "   import my_math\n",
    "\n",
    "when we run it give the code as output – \n",
    "Hello , Executing in file and importing the module\n",
    " \n",
    "\n",
    "For modules when we import them we didn’t get any executable code.So we don’t want this code in file where we use this module .So we have to keep this inside  conditional statement.\n",
    "\n",
    " \n",
    "\n",
    "We have    “__name__”  - when we this in code this builtin says that will be the main module in that file\n",
    "\n",
    "Print(__name__)                           #when we print it gives output as   ‘__main__’\n",
    "\n",
    "If __name__ == ’ __main__’:q\n",
    "\n",
    "              Print(__name__)\n",
    "\n",
    "              Print(‘Hello , Executing in file and importing the module’)\n",
    "\n",
    " \n",
    "\n",
    "When we use this built-in function,  in that file only that code will be executed when we import that module we don’t  get the code because that will not be the main module in other file.\n",
    "\n",
    "If we have  100 lines of executable code in our file we  can use main function\n",
    "\n",
    "   def main():\n",
    "\n",
    "              Print(__name__)\n",
    "\n",
    "              Print(‘Hello , Executing in file and importing the module’)\n",
    "\n",
    "If __name__ == ’ __main__’:\n",
    "\n",
    "              Main()                       # we can call the function where code is written .\n",
    "\n"
   ]
  },
  {
   "cell_type": "code",
   "execution_count": null,
   "id": "8eb9a208",
   "metadata": {},
   "outputs": [],
   "source": [
    "Iterators and Generators \n",
    "\n",
    "Iterable - list,tuple,set,dictionary,string etc\n",
    "which implements __iter__ dunder/magic method\n",
    "Able to run for loop over them\n",
    "\n",
    "this __iter__ method returns iterator object\n",
    "\n",
    "iterator object implements next() menthod internally , returns the next element from the iterable object\n",
    "Raise stopiterationError when all the elements are exausted from the iterable object"
   ]
  },
  {
   "cell_type": "code",
   "execution_count": 6,
   "id": "46169569",
   "metadata": {},
   "outputs": [
    {
     "name": "stdout",
     "output_type": "stream",
     "text": [
      "P\n",
      "y\n",
      "t\n",
      "h\n",
      "o\n",
      "n\n"
     ]
    }
   ],
   "source": [
    "# for loop returns an iterator object\n",
    "for i in 'Python':\n",
    "    print(i)"
   ]
  },
  {
   "cell_type": "code",
   "execution_count": 2,
   "id": "dd306bbb",
   "metadata": {},
   "outputs": [
    {
     "name": "stdout",
     "output_type": "stream",
     "text": [
      "P\n",
      "y\n",
      "t\n",
      "h\n",
      "o\n",
      "n\n"
     ]
    },
    {
     "ename": "StopIteration",
     "evalue": "",
     "output_type": "error",
     "traceback": [
      "\u001b[1;31m---------------------------------------------------------------------------\u001b[0m",
      "\u001b[1;31mStopIteration\u001b[0m                             Traceback (most recent call last)",
      "\u001b[1;32m<ipython-input-2-e1625150de09>\u001b[0m in \u001b[0;36m<module>\u001b[1;34m\u001b[0m\n\u001b[0;32m      6\u001b[0m \u001b[0mprint\u001b[0m\u001b[1;33m(\u001b[0m\u001b[0mnext\u001b[0m\u001b[1;33m(\u001b[0m\u001b[0mi\u001b[0m\u001b[1;33m)\u001b[0m\u001b[1;33m)\u001b[0m\u001b[1;33m\u001b[0m\u001b[1;33m\u001b[0m\u001b[0m\n\u001b[0;32m      7\u001b[0m \u001b[0mprint\u001b[0m\u001b[1;33m(\u001b[0m\u001b[0mnext\u001b[0m\u001b[1;33m(\u001b[0m\u001b[0mi\u001b[0m\u001b[1;33m)\u001b[0m\u001b[1;33m)\u001b[0m\u001b[1;33m\u001b[0m\u001b[1;33m\u001b[0m\u001b[0m\n\u001b[1;32m----> 8\u001b[1;33m \u001b[0mprint\u001b[0m\u001b[1;33m(\u001b[0m\u001b[0mnext\u001b[0m\u001b[1;33m(\u001b[0m\u001b[0mi\u001b[0m\u001b[1;33m)\u001b[0m\u001b[1;33m)\u001b[0m\u001b[1;33m\u001b[0m\u001b[1;33m\u001b[0m\u001b[0m\n\u001b[0m",
      "\u001b[1;31mStopIteration\u001b[0m: "
     ]
    }
   ],
   "source": [
    "i = iter('Python')\n",
    "\n",
    "print(next(i))\n",
    "print(next(i))\n",
    "print(next(i))\n",
    "print(next(i))\n",
    "print(next(i))          # same operation is implents in for loop\n",
    "print(next(i))\n",
    "print(next(i))"
   ]
  },
  {
   "cell_type": "code",
   "execution_count": 2,
   "id": "c772e73b",
   "metadata": {},
   "outputs": [
    {
     "name": "stdout",
     "output_type": "stream",
     "text": [
      "Enter first number:100\n",
      "Enter second number:20\n",
      "120\n",
      "80\n",
      "5.0\n",
      "5\n",
      "2000\n",
      "10000000000000000000000000000000000000000\n",
      "0\n"
     ]
    }
   ],
   "source": [
    "#  Generator   \n",
    "#  yeild keyword is used to define a function as generator\n",
    "    \n",
    "      \n",
    "def my_gen():\n",
    "    num1 = int(input('Enter first number:'))\n",
    "    num2 = int(input('Enter second number:'))\n",
    "    yield num1+num2\n",
    "    yield num1-num2\n",
    "    yield num1/num2\n",
    "    yield num1//num2\n",
    "    yield num1*num2\n",
    "    yield num1**num2\n",
    "    yield num1%num2\n",
    "    \n",
    "for i in my_gen():\n",
    "    print(i)"
   ]
  },
  {
   "cell_type": "code",
   "execution_count": 4,
   "id": "a2a389a0",
   "metadata": {},
   "outputs": [
    {
     "ename": "OverflowError",
     "evalue": "Python int too large to convert to C ssize_t",
     "output_type": "error",
     "traceback": [
      "\u001b[1;31m---------------------------------------------------------------------------\u001b[0m",
      "\u001b[1;31mOverflowError\u001b[0m                             Traceback (most recent call last)",
      "\u001b[1;32m<ipython-input-4-5751d2f70514>\u001b[0m in \u001b[0;36m<module>\u001b[1;34m\u001b[0m\n\u001b[1;32m----> 1\u001b[1;33m \u001b[0mlist\u001b[0m\u001b[1;33m(\u001b[0m\u001b[0mrange\u001b[0m\u001b[1;33m(\u001b[0m\u001b[1;36m1000000000000000000000000000000000000000000000000000000000000000000000000000000000000000000000000000000000000\u001b[0m\u001b[1;33m)\u001b[0m\u001b[1;33m)\u001b[0m\u001b[1;33m\u001b[0m\u001b[1;33m\u001b[0m\u001b[0m\n\u001b[0m",
      "\u001b[1;31mOverflowError\u001b[0m: Python int too large to convert to C ssize_t"
     ]
    }
   ],
   "source": [
    "list(range(1000000000000000000000000000000000000000000000000000000000000000000000000000000000000000000000000000000000000))"
   ]
  },
  {
   "cell_type": "code",
   "execution_count": 5,
   "id": "0d4956e9",
   "metadata": {},
   "outputs": [
    {
     "data": {
      "text/plain": [
       "[0, 1, 2, 3, 4, 5, 6, 7, 8, 9, 10, 11, 12, 13, 14, 15, 16, 17, 18, 19]"
      ]
     },
     "execution_count": 5,
     "metadata": {},
     "output_type": "execute_result"
    }
   ],
   "source": [
    "list(range(20))"
   ]
  },
  {
   "cell_type": "code",
   "execution_count": 6,
   "id": "c5e7f4e3",
   "metadata": {},
   "outputs": [
    {
     "data": {
      "text/plain": [
       "<generator object <genexpr> at 0x0000017119F5CDD0>"
      ]
     },
     "execution_count": 6,
     "metadata": {},
     "output_type": "execute_result"
    }
   ],
   "source": [
    "# Tuple comprehension creates a generator\n",
    "\n",
    "(i for i in range(100000000000000000000000000000000000000000000000000000000000000000000000000000000000000000000000)\n",
    " \n",
    " \n",
    " "
   ]
  },
  {
   "cell_type": "code",
   "execution_count": null,
   "id": "3b7b5158",
   "metadata": {},
   "outputs": [],
   "source": [
    "#when we want the operation then only generator will implement \n",
    "#previous reference will not be there in loop.one time creation and reference is loss\n",
    "#memory wise generator is efficient compare to any sequence"
   ]
  },
  {
   "cell_type": "code",
   "execution_count": 7,
   "id": "0ea4f995",
   "metadata": {},
   "outputs": [
    {
     "name": "stdout",
     "output_type": "stream",
     "text": [
      "2\n",
      "3\n",
      "4\n",
      "5\n",
      "6\n",
      "7\n",
      "8\n",
      "9\n"
     ]
    }
   ],
   "source": [
    "def my_gen_up(end,start=0):\n",
    "    if start == 0:        \n",
    "        for i in range(end):\n",
    "            yield i\n",
    "    else:\n",
    "        for i in range(start,end):\n",
    "            yield i\n",
    "q = my_gen_up(10,2)\n",
    "for i in q:\n",
    "    print(i)"
   ]
  },
  {
   "cell_type": "code",
   "execution_count": null,
   "id": "dc620776",
   "metadata": {},
   "outputs": [],
   "source": [
    "def my_gen_up(end,start=0):\n",
    "    if start == 0:        \n",
    "        for i in range(end):\n",
    "            yield i\n",
    "    else:\n",
    "        for i in range(start,end):\n",
    "            yield i\n",
    "q = my_gen_up(10,2)\n",
    "for i in q:\n",
    "    print(i)"
   ]
  },
  {
   "cell_type": "code",
   "execution_count": null,
   "id": "8de1652f",
   "metadata": {},
   "outputs": [],
   "source": [
    "\n",
    "\n",
    "\n",
    "\n",
    "\n"
   ]
  },
  {
   "cell_type": "code",
   "execution_count": null,
   "id": "d718704c",
   "metadata": {},
   "outputs": [],
   "source": []
  }
 ],
 "metadata": {
  "kernelspec": {
   "display_name": "Python 3",
   "language": "python",
   "name": "python3"
  },
  "language_info": {
   "codemirror_mode": {
    "name": "ipython",
    "version": 3
   },
   "file_extension": ".py",
   "mimetype": "text/x-python",
   "name": "python",
   "nbconvert_exporter": "python",
   "pygments_lexer": "ipython3",
   "version": "3.8.8"
  }
 },
 "nbformat": 4,
 "nbformat_minor": 5
}
